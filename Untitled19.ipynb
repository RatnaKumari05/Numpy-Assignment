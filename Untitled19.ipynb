{
  "nbformat": 4,
  "nbformat_minor": 0,
  "metadata": {
    "colab": {
      "name": "Untitled19.ipynb",
      "provenance": [],
      "collapsed_sections": []
    },
    "kernelspec": {
      "name": "python3",
      "display_name": "Python 3"
    },
    "language_info": {
      "name": "python"
    }
  },
  "cells": [
    {
      "cell_type": "markdown",
      "source": [
        "Name: Ratna Kumari\n",
        "\n",
        "\n",
        "---\n",
        "\n",
        "\n",
        "Email: kumari92900@gmail.com\n",
        "\n",
        "Guided Assignment:10th-August-2022"
      ],
      "metadata": {
        "id": "ePl0dQbI8cOC"
      }
    },
    {
      "cell_type": "markdown",
      "source": [
        "1)Write a code that takes in a number x from the user and creates a 1x20 array with random numbers ranging from 0 to x\n"
      ],
      "metadata": {
        "id": "ipy4b_7m92XO"
      }
    },
    {
      "cell_type": "code",
      "source": [
        "import numpy as np\n",
        "x = np.random.randint(0,5,(1,20))\n",
        "x"
      ],
      "metadata": {
        "colab": {
          "base_uri": "https://localhost:8080/"
        },
        "id": "CE6StR8K-D0p",
        "outputId": "bad00fa0-31cd-413e-9832-c489e822814e"
      },
      "execution_count": 2,
      "outputs": [
        {
          "output_type": "execute_result",
          "data": {
            "text/plain": [
              "array([[4, 3, 1, 2, 0, 3, 4, 0, 0, 3, 4, 4, 0, 3, 1, 4, 3, 2, 1, 4]])"
            ]
          },
          "metadata": {},
          "execution_count": 2
        }
      ]
    },
    {
      "cell_type": "markdown",
      "source": [
        "2)Write a code that creates a 4x5 array inwhich numbers ranging between 300 and 500 such that the difference between elements is 10"
      ],
      "metadata": {
        "id": "OlBV9itC9517"
      }
    },
    {
      "cell_type": "code",
      "source": [
        "import numpy as np\n",
        "array = np.arange(300, 500, 10)\n",
        "array = array.reshape(4,5)\n",
        "print (array)"
      ],
      "metadata": {
        "colab": {
          "base_uri": "https://localhost:8080/"
        },
        "id": "O847192JCyim",
        "outputId": "c40b6389-57b8-4dbc-dbda-a4071795b39e"
      },
      "execution_count": 3,
      "outputs": [
        {
          "output_type": "stream",
          "name": "stdout",
          "text": [
            "[[300 310 320 330 340]\n",
            " [350 360 370 380 390]\n",
            " [400 410 420 430 440]\n",
            " [450 460 470 480 490]]\n"
          ]
        }
      ]
    },
    {
      "cell_type": "markdown",
      "source": [
        "3)Write a code that creates a 20x20 numpy array of random values that ranges from -1000 to 1000 and obtain the maximum, minimum, and mean values "
      ],
      "metadata": {
        "id": "_IREVcXj966x"
      }
    },
    {
      "cell_type": "code",
      "source": [
        "import numpy as np\n",
        "y = np.random.randint(-1000,1000,(20,20))\n",
        "print(np.max(y))\n",
        "print(np.min(y))\n",
        "print(np.mean(y))"
      ],
      "metadata": {
        "colab": {
          "base_uri": "https://localhost:8080/"
        },
        "id": "JarwZZom_BMJ",
        "outputId": "9e815e44-5f16-4d85-9e17-5f33a881c14a"
      },
      "execution_count": 4,
      "outputs": [
        {
          "output_type": "stream",
          "name": "stdout",
          "text": [
            "986\n",
            "-992\n",
            "6.05\n"
          ]
        }
      ]
    },
    {
      "cell_type": "markdown",
      "source": [
        " 4)In the following matrix, replace the last row with -1 Multiply the 2x2 matrix in the upper right corner by 2 X = [2 30 20 -2 -4] [3 4 40 -3 -2] [-3 4 -6 90 10] [25 45 34 22 12] [13 24 22 32 37]"
      ],
      "metadata": {
        "id": "673xE6WA99Zu"
      }
    },
    {
      "cell_type": "code",
      "source": [
        "X =np.array([[2,30,20,-2,-4], \n",
        "[3, 4, 40, -3, -2], \n",
        "[-3, 4, -6, 90, 10],\n",
        "[25, 45, 34, 22, 12],\n",
        "[13, 24, 22, 32, 37]])\n",
        "X[4]=-1\n",
        "print(X)\n",
        "\n",
        "print(X[:2,3:]*2)\n",
        "\n"
      ],
      "metadata": {
        "colab": {
          "base_uri": "https://localhost:8080/"
        },
        "id": "UDedYbDS-p2z",
        "outputId": "26923d3a-5399-4c48-e6ee-7feedb60f596"
      },
      "execution_count": 5,
      "outputs": [
        {
          "output_type": "stream",
          "name": "stdout",
          "text": [
            "[[ 2 30 20 -2 -4]\n",
            " [ 3  4 40 -3 -2]\n",
            " [-3  4 -6 90 10]\n",
            " [25 45 34 22 12]\n",
            " [-1 -1 -1 -1 -1]]\n",
            "[[-4 -8]\n",
            " [-6 -4]]\n"
          ]
        }
      ]
    },
    {
      "cell_type": "markdown",
      "source": [
        "5) In the following matrix, replace negative elements by 0 and replace odd elements with 25 X = [2 30 20 -2 -4] [3 4 40 -3 -2] [-3 4 -6 90 10] [25 45 34 22 12] [13 24 22 32 37]"
      ],
      "metadata": {
        "id": "6JjAn89a-ADL"
      }
    },
    {
      "cell_type": "code",
      "source": [
        "import numpy as np\n",
        "X = np.array([[2,30,20,-2,-4],[3,4,40,-3,-2], [-3, 4 ,-6, 90, 10] ,[25 ,45 ,34, 22 ,12], [13 ,24, 22 ,32, 37]])\n",
        "n = 0 \n",
        "r = 0\n",
        "\n",
        "print(np.where( X % 2 == 1,25,X))\n",
        "print(np.where(X < n,r,X))\n",
        "\n",
        "\n",
        "\n"
      ],
      "metadata": {
        "colab": {
          "base_uri": "https://localhost:8080/"
        },
        "id": "8awx4jGT_0L7",
        "outputId": "79ed0447-d5f9-40e4-8542-af3ed341604c"
      },
      "execution_count": 6,
      "outputs": [
        {
          "output_type": "stream",
          "name": "stdout",
          "text": [
            "[[ 2 30 20 -2 -4]\n",
            " [25  4 40 25 -2]\n",
            " [25  4 -6 90 10]\n",
            " [25 25 34 22 12]\n",
            " [25 24 22 32 25]]\n",
            "[[ 2 30 20  0  0]\n",
            " [ 3  4 40  0  0]\n",
            " [ 0  4  0 90 10]\n",
            " [25 45 34 22 12]\n",
            " [13 24 22 32 37]]\n"
          ]
        }
      ]
    }
  ]
}